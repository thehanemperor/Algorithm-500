{
 "cells": [
  {
   "cell_type": "markdown",
   "metadata": {},
   "source": [
    "## Plan 1"
   ]
  },
  {
   "cell_type": "markdown",
   "metadata": {},
   "source": [
    "### [463. Island Perimeter](https://leetcode.com/problems/island-perimeter/)"
   ]
  },
  {
   "cell_type": "code",
   "execution_count": null,
   "metadata": {},
   "outputs": [],
   "source": [
    "class Solution:\n",
    "    def islandPerimeter(self, grid: List[List[int]]) -> int:\n",
    "        m = len(grid)\n",
    "        n = len(grid[0])\n",
    "\n",
    "        res = 0\n",
    "\n",
    "        for i in range(m):\n",
    "            for j in range(n):\n",
    "                if grid[i][j] == 1:\n",
    "                    up= 0 if i == 0 else grid[i-1][j]\n",
    "                    left = 0 if j == 0 else grid[i][j-1]\n",
    "                    right = 0 if j == n-1 else grid[i][j+1]\n",
    "                    bot = 0 if i == m-1 else grid[i+1][j]\n",
    "\n",
    "                    res += 4 -(up+left+right+bot)\n",
    "\n",
    "        return res"
   ]
  },
  {
   "cell_type": "markdown",
   "metadata": {},
   "source": [
    "### [228. Summary ranges](https://leetcode.com/problems/summary-ranges/)"
   ]
  },
  {
   "cell_type": "code",
   "execution_count": 2,
   "metadata": {},
   "outputs": [],
   "source": [
    "class Solution:\n",
    "    def summaryRanges(self, nums) -> 'List[str]':\n",
    "        left = right = 0\n",
    "        n = len(nums)\n",
    "        res = []\n",
    "        while right < n:\n",
    "            while right+1 <n and nums[right]+1 == nums[right+1]:\n",
    "                right += 1\n",
    "\n",
    "            if left < right:\n",
    "                res.append(\"{}->{}\".format(nums[left],nums[right]))\n",
    "            else:\n",
    "                res.append(str(nums[right]))\n",
    "            right += 1\n",
    "            left = right\n",
    "\n",
    "        return res"
   ]
  },
  {
   "cell_type": "markdown",
   "metadata": {},
   "source": [
    "### [163. Missing Ranges](https://leetcode.com/problems/missing-ranges/)\n",
    "\n",
    "at the end, compare the nums[-1] with the upper and append directly"
   ]
  },
  {
   "cell_type": "code",
   "execution_count": 3,
   "metadata": {},
   "outputs": [
    {
     "ename": "NameError",
     "evalue": "name 'List' is not defined",
     "output_type": "error",
     "traceback": [
      "\u001b[1;31m---------------------------------------------------------------------------\u001b[0m",
      "\u001b[1;31mNameError\u001b[0m                                 Traceback (most recent call last)",
      "Cell \u001b[1;32mIn[3], line 1\u001b[0m\n\u001b[1;32m----> 1\u001b[0m \u001b[38;5;28;01mclass\u001b[39;00m\u001b[38;5;250m \u001b[39m\u001b[38;5;21;01mSolution\u001b[39;00m:\n\u001b[0;32m      2\u001b[0m     \u001b[38;5;28;01mdef\u001b[39;00m\u001b[38;5;250m \u001b[39m\u001b[38;5;21mfindMissingRanges\u001b[39m(\u001b[38;5;28mself\u001b[39m, nums: List[\u001b[38;5;28mint\u001b[39m], lower: \u001b[38;5;28mint\u001b[39m, upper: \u001b[38;5;28mint\u001b[39m) \u001b[38;5;241m-\u001b[39m\u001b[38;5;241m>\u001b[39m List[List[\u001b[38;5;28mint\u001b[39m]]:\n\u001b[0;32m      3\u001b[0m         \u001b[38;5;28;01mif\u001b[39;00m \u001b[38;5;129;01mnot\u001b[39;00m nums:\n",
      "Cell \u001b[1;32mIn[3], line 2\u001b[0m, in \u001b[0;36mSolution\u001b[1;34m()\u001b[0m\n\u001b[0;32m      1\u001b[0m \u001b[38;5;28;01mclass\u001b[39;00m\u001b[38;5;250m \u001b[39m\u001b[38;5;21;01mSolution\u001b[39;00m:\n\u001b[1;32m----> 2\u001b[0m     \u001b[38;5;28;01mdef\u001b[39;00m\u001b[38;5;250m \u001b[39m\u001b[38;5;21mfindMissingRanges\u001b[39m(\u001b[38;5;28mself\u001b[39m, nums: \u001b[43mList\u001b[49m[\u001b[38;5;28mint\u001b[39m], lower: \u001b[38;5;28mint\u001b[39m, upper: \u001b[38;5;28mint\u001b[39m) \u001b[38;5;241m-\u001b[39m\u001b[38;5;241m>\u001b[39m List[List[\u001b[38;5;28mint\u001b[39m]]:\n\u001b[0;32m      3\u001b[0m         \u001b[38;5;28;01mif\u001b[39;00m \u001b[38;5;129;01mnot\u001b[39;00m nums:\n\u001b[0;32m      4\u001b[0m             \u001b[38;5;28;01mreturn\u001b[39;00m [[lower,upper]]\n",
      "\u001b[1;31mNameError\u001b[0m: name 'List' is not defined"
     ]
    }
   ],
   "source": [
    "class Solution:\n",
    "    def findMissingRanges(self, nums: List[int], lower: int, upper: int) -> List[List[int]]:\n",
    "        if not nums:\n",
    "            return [[lower,upper]]\n",
    "        left = lower\n",
    "        n = len(nums)\n",
    "        i = 0\n",
    "        res = []\n",
    "        while i < n:\n",
    "            if left < nums[i]:\n",
    "                res.append([left,nums[i]-1])\n",
    "            while i+1 <n and nums[i]+1 == nums[i+1]:\n",
    "                i += 1\n",
    "\n",
    "            left = nums[i]+1\n",
    "            i += 1\n",
    "\n",
    "        # important here\n",
    "        if upper > nums[n-1]:\n",
    "            res.append([nums[n-1]+1,upper])\n",
    "\n",
    "        return res"
   ]
  },
  {
   "cell_type": "markdown",
   "metadata": {},
   "source": [
    "### [171. Excel Sheet Column Number](https://leetcode.com/problems/excel-sheet-column-title/)"
   ]
  },
  {
   "cell_type": "code",
   "execution_count": null,
   "metadata": {},
   "outputs": [],
   "source": [
    "class Solution:\n",
    "    def titleToNumber(self, columnTitle: str) -> int:\n",
    "        n = len(columnTitle)\n",
    "        res = 0\n",
    "        p = 0\n",
    "        for i in range(n-1,-1,-1):\n",
    "            char = columnTitle[i]\n",
    "            val = ord(char) - ord(\"A\") + 1\n",
    "            res += val * (26**p)\n",
    "            p += 1\n",
    "\n",
    "        return res"
   ]
  },
  {
   "cell_type": "markdown",
   "metadata": {},
   "source": [
    "### [168. Excel Sheet Column Title](https://leetcode.com/problems/excel-sheet-column-title/)"
   ]
  },
  {
   "cell_type": "code",
   "execution_count": null,
   "metadata": {},
   "outputs": [],
   "source": [
    "class Solution:\n",
    "    def convertToTitle(self, columnNumber: int) -> str:\n",
    "        n = columnNumber\n",
    "        res = \"\"\n",
    "        A = ord(\"A\")\n",
    "        while n >0:\n",
    "            n-= 1\n",
    "            curr = n %26\n",
    "            res = chr(curr + A) + res\n",
    "            n = n // 26\n",
    "\n",
    "        return res\n",
    "         "
   ]
  }
 ],
 "metadata": {
  "kernelspec": {
   "display_name": "Python 3",
   "language": "python",
   "name": "python3"
  },
  "language_info": {
   "codemirror_mode": {
    "name": "ipython",
    "version": 3
   },
   "file_extension": ".py",
   "mimetype": "text/x-python",
   "name": "python",
   "nbconvert_exporter": "python",
   "pygments_lexer": "ipython3",
   "version": "3.9.6"
  }
 },
 "nbformat": 4,
 "nbformat_minor": 2
}
