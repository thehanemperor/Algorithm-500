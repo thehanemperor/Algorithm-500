{
 "cells": [
  {
   "cell_type": "markdown",
   "metadata": {},
   "source": [
    "## Plan 1"
   ]
  },
  {
   "cell_type": "markdown",
   "metadata": {},
   "source": [
    "### [463. Island Perimeter](https://leetcode.com/problems/island-perimeter/)"
   ]
  },
  {
   "cell_type": "code",
   "execution_count": null,
   "metadata": {},
   "outputs": [],
   "source": [
    "class Solution:\n",
    "    def islandPerimeter(self, grid: List[List[int]]) -> int:\n",
    "        m = len(grid)\n",
    "        n = len(grid[0])\n",
    "\n",
    "        res = 0\n",
    "\n",
    "        for i in range(m):\n",
    "            for j in range(n):\n",
    "                if grid[i][j] == 1:\n",
    "                    up= 0 if i == 0 else grid[i-1][j]\n",
    "                    left = 0 if j == 0 else grid[i][j-1]\n",
    "                    right = 0 if j == n-1 else grid[i][j+1]\n",
    "                    bot = 0 if i == m-1 else grid[i+1][j]\n",
    "\n",
    "                    res += 4 -(up+left+right+bot)\n",
    "\n",
    "        return res"
   ]
  },
  {
   "cell_type": "markdown",
   "metadata": {},
   "source": [
    "### [228. Summary ranges](https://leetcode.com/problems/summary-ranges/)"
   ]
  },
  {
   "cell_type": "code",
   "execution_count": 2,
   "metadata": {},
   "outputs": [],
   "source": [
    "class Solution:\n",
    "    def summaryRanges(self, nums) -> 'List[str]':\n",
    "        left = right = 0\n",
    "        n = len(nums)\n",
    "        res = []\n",
    "        while right < n:\n",
    "            while right+1 <n and nums[right]+1 == nums[right+1]:\n",
    "                right += 1\n",
    "\n",
    "            if left < right:\n",
    "                res.append(\"{}->{}\".format(nums[left],nums[right]))\n",
    "            else:\n",
    "                res.append(str(nums[right]))\n",
    "            right += 1\n",
    "            left = right\n",
    "\n",
    "        return res"
   ]
  },
  {
   "cell_type": "markdown",
   "metadata": {},
   "source": [
    "### [163. Missing Ranges](https://leetcode.com/problems/missing-ranges/)\n",
    "\n",
    "at the end, compare the nums[-1] with the upper and append directly"
   ]
  },
  {
   "cell_type": "code",
   "execution_count": 4,
   "metadata": {},
   "outputs": [],
   "source": [
    "class Solution:\n",
    "    def findMissingRanges(self, nums: 'List[int]', lower: int, upper: int) -> 'List[List[int]]':\n",
    "        if not nums:\n",
    "            return [[lower,upper]]\n",
    "        left = lower\n",
    "        n = len(nums)\n",
    "        i = 0\n",
    "        res = []\n",
    "        while i < n:\n",
    "            if left < nums[i]:\n",
    "                res.append([left,nums[i]-1])\n",
    "            while i+1 <n and nums[i]+1 == nums[i+1]:\n",
    "                i += 1\n",
    "\n",
    "            left = nums[i]+1\n",
    "            i += 1\n",
    "\n",
    "        # important here\n",
    "        if upper > nums[n-1]:\n",
    "            res.append([nums[n-1]+1,upper])\n",
    "\n",
    "        return res"
   ]
  },
  {
   "cell_type": "markdown",
   "metadata": {},
   "source": [
    "### [171. Excel Sheet Column Number](https://leetcode.com/problems/excel-sheet-column-title/)"
   ]
  },
  {
   "cell_type": "code",
   "execution_count": 5,
   "metadata": {},
   "outputs": [],
   "source": [
    "class Solution:\n",
    "    def titleToNumber(self, columnTitle: str) -> int:\n",
    "        n = len(columnTitle)\n",
    "        res = 0\n",
    "        p = 0\n",
    "        for i in range(n-1,-1,-1):\n",
    "            char = columnTitle[i]\n",
    "            val = ord(char) - ord(\"A\") + 1\n",
    "            res += val * (26**p)\n",
    "            p += 1\n",
    "\n",
    "        return res"
   ]
  },
  {
   "cell_type": "markdown",
   "metadata": {},
   "source": [
    "### [168. Excel Sheet Column Title](https://leetcode.com/problems/excel-sheet-column-title/)"
   ]
  },
  {
   "cell_type": "code",
   "execution_count": 6,
   "metadata": {},
   "outputs": [],
   "source": [
    "class Solution:\n",
    "    def convertToTitle(self, columnNumber: int) -> str:\n",
    "        n = columnNumber\n",
    "        res = \"\"\n",
    "        A = ord(\"A\")\n",
    "        while n >0:\n",
    "            n-= 1\n",
    "            curr = n %26\n",
    "            res = chr(curr + A) + res\n",
    "            n = n // 26\n",
    "\n",
    "        return res\n",
    "         "
   ]
  },
  {
   "cell_type": "markdown",
   "metadata": {},
   "source": [
    "# Plan 2"
   ]
  },
  {
   "cell_type": "markdown",
   "metadata": {},
   "source": [
    "### [31. Next Permutation](https://leetcode.com/problems/next-permutation)"
   ]
  },
  {
   "cell_type": "markdown",
   "metadata": {},
   "source": [
    "scan from the end, monotonic stack\n",
    "\n",
    "[1,4,3,2] 1 is the drop. swap 1 and 2 -> [2,4,3,1], reverse after 2 -> [2,1,3,4]"
   ]
  },
  {
   "cell_type": "code",
   "execution_count": 7,
   "metadata": {},
   "outputs": [],
   "source": [
    "class Solution:\n",
    "    def nextPermutation(self, nums: 'List[int]') -> None:\n",
    "        \"\"\"\n",
    "        Do not return anything, modify nums in-place instead.\n",
    "        \"\"\"\n",
    "        n = len(nums)\n",
    "        right = n-1\n",
    "        while right >=0:\n",
    "            if right -1>=0 and nums[right-1]<nums[right]:\n",
    "                break\n",
    "\n",
    "            right -= 1\n",
    "\n",
    "        \n",
    "        if right == -1:\n",
    "            nums.reverse()\n",
    "            return \n",
    "\n",
    "        left = right -1\n",
    "        right = n-1\n",
    "        while right > left:\n",
    "            if nums[right] > nums[left]:\n",
    "                break\n",
    "            right -= 1\n",
    "\n",
    "        nums[left],nums[right] = nums[right],nums[left]\n",
    "        i = left + 1\n",
    "        j = n -1\n",
    "        while i<j:\n",
    "            nums[i],nums[j] = nums[j],nums[i]\n",
    "            i += 1\n",
    "            j -= 1\n",
    "\n",
    "        "
   ]
  },
  {
   "cell_type": "markdown",
   "metadata": {},
   "source": [
    "### [556. Next Greater Element III](https://leetcode.com/problems/next-greater-element-iii)\n",
    "\n",
    "same as next permutation"
   ]
  },
  {
   "cell_type": "code",
   "execution_count": 8,
   "metadata": {},
   "outputs": [],
   "source": [
    "class Solution:\n",
    "    def nextGreaterElement(self, n: int) -> int:\n",
    "        arr = []\n",
    "        for num in str(n):\n",
    "            arr.append(num)\n",
    "\n",
    "        n = len(arr)\n",
    "        i = n-2\n",
    "        while i>=0:\n",
    "            curr = int(arr[i])\n",
    "            after = int(arr[i+1])\n",
    "            if curr < after:\n",
    "                break\n",
    "            i -= 1\n",
    "\n",
    "        if i <0:\n",
    "            return -1\n",
    "\n",
    "        left = i\n",
    "        for right in range(n-1,-1,-1):\n",
    "            if arr[right]>arr[left]:\n",
    "                break\n",
    "        arr[left],arr[right] = arr[right],arr[left]\n",
    "\n",
    "        i = left + 1\n",
    "        j = n -1\n",
    "        while i < j:\n",
    "            arr[i],arr[j] = arr[j],arr[i]\n",
    "            i += 1\n",
    "            j -= 1\n",
    "\n",
    "        res = int(\"\".join(arr))\n",
    "        return res if res <= 2**31-1 else -1\n",
    "\n",
    "        "
   ]
  },
  {
   "cell_type": "markdown",
   "metadata": {},
   "source": [
    "### [670. Maximum Swap](https://leetcode.com/problems/maximum-swap)\n",
    "\n",
    "different than next greater\n",
    "\n",
    "maintain a biggest index array for nums:[1,4,2,3]  biggestRightIndex = [1,1,3,3]\n",
    "\n",
    "scan from the left, if the number < biggest right number then swap\n",
    "      "
   ]
  },
  {
   "cell_type": "code",
   "execution_count": 9,
   "metadata": {},
   "outputs": [],
   "source": [
    "class Solution:\n",
    "    def maximumSwap(self, num: int) -> int:\n",
    "        arr = []\n",
    "        for n in str(num):\n",
    "            arr.append(n)\n",
    "        n = len(arr)\n",
    "        maxRight = [n-1] * n\n",
    "        for i in range(n-2,-1,-1):\n",
    "            if arr[i] > arr[maxRight[i+1]]:\n",
    "                maxRight[i] = i\n",
    "            else:\n",
    "                maxRight[i] = maxRight[i+1]\n",
    "\n",
    "        for i in range(n):\n",
    "            if arr[i] < arr[maxRight[i]]:\n",
    "                arr[i], arr[maxRight[i]] = arr[maxRight[i]], arr[i]\n",
    "                return int(\"\".join(arr))\n",
    "\n",
    "        return num\n",
    "            \n",
    "        "
   ]
  }
 ],
 "metadata": {
  "kernelspec": {
   "display_name": "Python 3",
   "language": "python",
   "name": "python3"
  },
  "language_info": {
   "codemirror_mode": {
    "name": "ipython",
    "version": 3
   },
   "file_extension": ".py",
   "mimetype": "text/x-python",
   "name": "python",
   "nbconvert_exporter": "python",
   "pygments_lexer": "ipython3",
   "version": "3.9.6"
  }
 },
 "nbformat": 4,
 "nbformat_minor": 2
}
