{
 "cells": [
  {
   "cell_type": "markdown",
   "metadata": {},
   "source": [
    "## Plan 1"
   ]
  },
  {
   "cell_type": "markdown",
   "metadata": {},
   "source": [
    "### [463. Island Perimeter](https://leetcode.com/problems/island-perimeter/)"
   ]
  },
  {
   "cell_type": "code",
   "execution_count": null,
   "metadata": {},
   "outputs": [],
   "source": [
    "class Solution:\n",
    "    def islandPerimeter(self, grid: List[List[int]]) -> int:\n",
    "        m = len(grid)\n",
    "        n = len(grid[0])\n",
    "\n",
    "        res = 0\n",
    "\n",
    "        for i in range(m):\n",
    "            for j in range(n):\n",
    "                if grid[i][j] == 1:\n",
    "                    up= 0 if i == 0 else grid[i-1][j]\n",
    "                    left = 0 if j == 0 else grid[i][j-1]\n",
    "                    right = 0 if j == n-1 else grid[i][j+1]\n",
    "                    bot = 0 if i == m-1 else grid[i+1][j]\n",
    "\n",
    "                    res += 4 -(up+left+right+bot)\n",
    "\n",
    "        return res"
   ]
  },
  {
   "cell_type": "markdown",
   "metadata": {},
   "source": [
    "### [228. Summary ranges](https://leetcode.com/problems/summary-ranges/)"
   ]
  },
  {
   "cell_type": "code",
   "execution_count": 2,
   "metadata": {},
   "outputs": [],
   "source": [
    "class Solution:\n",
    "    def summaryRanges(self, nums) -> 'List[str]':\n",
    "        left = right = 0\n",
    "        n = len(nums)\n",
    "        res = []\n",
    "        while right < n:\n",
    "            while right+1 <n and nums[right]+1 == nums[right+1]:\n",
    "                right += 1\n",
    "\n",
    "            if left < right:\n",
    "                res.append(\"{}->{}\".format(nums[left],nums[right]))\n",
    "            else:\n",
    "                res.append(str(nums[right]))\n",
    "            right += 1\n",
    "            left = right\n",
    "\n",
    "        return res"
   ]
  },
  {
   "cell_type": "markdown",
   "metadata": {},
   "source": [
    "### [163. Missing Ranges](https://leetcode.com/problems/missing-ranges/)\n",
    "\n",
    "at the end, compare the nums[-1] with the upper and append directly"
   ]
  },
  {
   "cell_type": "code",
   "execution_count": 4,
   "metadata": {},
   "outputs": [],
   "source": [
    "class Solution:\n",
    "    def findMissingRanges(self, nums: 'List[int]', lower: int, upper: int) -> 'List[List[int]]':\n",
    "        if not nums:\n",
    "            return [[lower,upper]]\n",
    "        left = lower\n",
    "        n = len(nums)\n",
    "        i = 0\n",
    "        res = []\n",
    "        while i < n:\n",
    "            if left < nums[i]:\n",
    "                res.append([left,nums[i]-1])\n",
    "            while i+1 <n and nums[i]+1 == nums[i+1]:\n",
    "                i += 1\n",
    "\n",
    "            left = nums[i]+1\n",
    "            i += 1\n",
    "\n",
    "        # important here\n",
    "        if upper > nums[n-1]:\n",
    "            res.append([nums[n-1]+1,upper])\n",
    "\n",
    "        return res"
   ]
  },
  {
   "cell_type": "markdown",
   "metadata": {},
   "source": [
    "### [171. Excel Sheet Column Number](https://leetcode.com/problems/excel-sheet-column-title/)"
   ]
  },
  {
   "cell_type": "code",
   "execution_count": 5,
   "metadata": {},
   "outputs": [],
   "source": [
    "class Solution:\n",
    "    def titleToNumber(self, columnTitle: str) -> int:\n",
    "        n = len(columnTitle)\n",
    "        res = 0\n",
    "        p = 0\n",
    "        for i in range(n-1,-1,-1):\n",
    "            char = columnTitle[i]\n",
    "            val = ord(char) - ord(\"A\") + 1\n",
    "            res += val * (26**p)\n",
    "            p += 1\n",
    "\n",
    "        return res"
   ]
  },
  {
   "cell_type": "markdown",
   "metadata": {},
   "source": [
    "### [168. Excel Sheet Column Title](https://leetcode.com/problems/excel-sheet-column-title/)"
   ]
  },
  {
   "cell_type": "code",
   "execution_count": 6,
   "metadata": {},
   "outputs": [],
   "source": [
    "class Solution:\n",
    "    def convertToTitle(self, columnNumber: int) -> str:\n",
    "        n = columnNumber\n",
    "        res = \"\"\n",
    "        A = ord(\"A\")\n",
    "        while n >0:\n",
    "            n-= 1\n",
    "            curr = n %26\n",
    "            res = chr(curr + A) + res\n",
    "            n = n // 26\n",
    "\n",
    "        return res\n",
    "         "
   ]
  },
  {
   "cell_type": "markdown",
   "metadata": {},
   "source": [
    "# Plan 2"
   ]
  },
  {
   "cell_type": "markdown",
   "metadata": {},
   "source": [
    "### [31. Next Permutation](https://leetcode.com/problems/next-permutation)"
   ]
  },
  {
   "cell_type": "markdown",
   "metadata": {},
   "source": [
    "scan from the end, monotonic stack\n",
    "\n",
    "[1,4,3,2] 1 is the drop. swap 1 and 2 -> [2,4,3,1], reverse after 2 -> [2,1,3,4]"
   ]
  },
  {
   "cell_type": "code",
   "execution_count": 7,
   "metadata": {},
   "outputs": [],
   "source": [
    "class Solution:\n",
    "    def nextPermutation(self, nums: 'List[int]') -> None:\n",
    "        \"\"\"\n",
    "        Do not return anything, modify nums in-place instead.\n",
    "        \"\"\"\n",
    "        n = len(nums)\n",
    "        right = n-1\n",
    "        while right >=0:\n",
    "            if right -1>=0 and nums[right-1]<nums[right]:\n",
    "                break\n",
    "\n",
    "            right -= 1\n",
    "\n",
    "        \n",
    "        if right == -1:\n",
    "            nums.reverse()\n",
    "            return \n",
    "\n",
    "        left = right -1\n",
    "        right = n-1\n",
    "        while right > left:\n",
    "            if nums[right] > nums[left]:\n",
    "                break\n",
    "            right -= 1\n",
    "\n",
    "        nums[left],nums[right] = nums[right],nums[left]\n",
    "        i = left + 1\n",
    "        j = n -1\n",
    "        while i<j:\n",
    "            nums[i],nums[j] = nums[j],nums[i]\n",
    "            i += 1\n",
    "            j -= 1\n",
    "\n",
    "        "
   ]
  },
  {
   "cell_type": "markdown",
   "metadata": {},
   "source": [
    "### [556. Next Greater Element III](https://leetcode.com/problems/next-greater-element-iii)\n",
    "\n",
    "same as next permutation"
   ]
  },
  {
   "cell_type": "code",
   "execution_count": 8,
   "metadata": {},
   "outputs": [],
   "source": [
    "class Solution:\n",
    "    def nextGreaterElement(self, n: int) -> int:\n",
    "        arr = []\n",
    "        for num in str(n):\n",
    "            arr.append(num)\n",
    "\n",
    "        n = len(arr)\n",
    "        i = n-2\n",
    "        while i>=0:\n",
    "            curr = int(arr[i])\n",
    "            after = int(arr[i+1])\n",
    "            if curr < after:\n",
    "                break\n",
    "            i -= 1\n",
    "\n",
    "        if i <0:\n",
    "            return -1\n",
    "\n",
    "        left = i\n",
    "        for right in range(n-1,-1,-1):\n",
    "            if arr[right]>arr[left]:\n",
    "                break\n",
    "        arr[left],arr[right] = arr[right],arr[left]\n",
    "\n",
    "        i = left + 1\n",
    "        j = n -1\n",
    "        while i < j:\n",
    "            arr[i],arr[j] = arr[j],arr[i]\n",
    "            i += 1\n",
    "            j -= 1\n",
    "\n",
    "        res = int(\"\".join(arr))\n",
    "        return res if res <= 2**31-1 else -1\n",
    "\n",
    "        "
   ]
  },
  {
   "cell_type": "markdown",
   "metadata": {},
   "source": [
    "### [670. Maximum Swap](https://leetcode.com/problems/maximum-swap)\n",
    "\n",
    "different than next greater\n",
    "\n",
    "maintain a biggest index array for nums:[1,4,2,3]  biggestRightIndex = [1,1,3,3]\n",
    "\n",
    "scan from the left, if the number < biggest right number then swap\n",
    "      "
   ]
  },
  {
   "cell_type": "code",
   "execution_count": 9,
   "metadata": {},
   "outputs": [],
   "source": [
    "class Solution:\n",
    "    def maximumSwap(self, num: int) -> int:\n",
    "        arr = []\n",
    "        for n in str(num):\n",
    "            arr.append(n)\n",
    "        n = len(arr)\n",
    "        maxRight = [n-1] * n\n",
    "        for i in range(n-2,-1,-1):\n",
    "            if arr[i] > arr[maxRight[i+1]]:\n",
    "                maxRight[i] = i\n",
    "            else:\n",
    "                maxRight[i] = maxRight[i+1]\n",
    "\n",
    "        for i in range(n):\n",
    "            if arr[i] < arr[maxRight[i]]:\n",
    "                arr[i], arr[maxRight[i]] = arr[maxRight[i]], arr[i]\n",
    "                return int(\"\".join(arr))\n",
    "\n",
    "        return num\n",
    "            \n",
    "        "
   ]
  },
  {
   "cell_type": "markdown",
   "metadata": {},
   "source": [
    "### [36. Valid Sudoku](https://leetcode.com/problems/valid-sudoku)\n",
    "\n",
    "check each row\n",
    "\n",
    "check each col\n",
    "\n",
    "check 9 grid -> 3* (i//3) + j//3"
   ]
  },
  {
   "cell_type": "code",
   "execution_count": 11,
   "metadata": {},
   "outputs": [],
   "source": [
    "class Solution:\n",
    "    def isValidSudoku(self, board: \"List[List[str]]\") -> bool:\n",
    "        row = [[] for _ in range(9)]\n",
    "        col = [[] for _ in range(9)]\n",
    "        grid = [[] for _ in range(9)]\n",
    "\n",
    "        for i in range(9):\n",
    "            for j in range(9):\n",
    "                if not board[i][j].isdigit():\n",
    "                    continue\n",
    "                num = int(board[i][j])\n",
    "                if num not in row[i]:\n",
    "                    row[i].append(num)\n",
    "                else:\n",
    "                    return False\n",
    "\n",
    "                if num not in col[j]:\n",
    "                    col[j].append(num)\n",
    "                else:\n",
    "                    return False\n",
    "\n",
    "                gdex = 3 * (i//3) + j//3\n",
    "                if num not in grid[gdex]:\n",
    "                    grid[gdex].append(num)\n",
    "                else:\n",
    "                    return False\n",
    "\n",
    "        return True"
   ]
  },
  {
   "cell_type": "markdown",
   "metadata": {},
   "source": [
    "### [289. Game of Life](https://leetcode.com/problems/game-of-life)\n",
    "\n",
    "read and check each condition"
   ]
  },
  {
   "cell_type": "code",
   "execution_count": 12,
   "metadata": {},
   "outputs": [],
   "source": [
    "class Solution:\n",
    "    def gameOfLife(self, board: \"List[List[int]]\") -> None:\n",
    "        \"\"\"\n",
    "        Do not return anything, modify board in-place instead.\n",
    "        \"\"\"\n",
    "        zero = []\n",
    "        one = []\n",
    "        m = len(board)\n",
    "        n = len(board[0])\n",
    "        neighbors = [(0,1),(1,0),(0,-1),(-1,0),(-1,1),(1,-1),(-1,-1),(1,1)]\n",
    "        for i in range(m):\n",
    "            for j in range(n):\n",
    "                if board[i][j] == 0:\n",
    "                    liveCount = 0\n",
    "                    for x,y in neighbors:\n",
    "                        if 0<=x+i<m and 0<=y+j<n and board[i+x][j+y] == 1:\n",
    "                            liveCount += 1\n",
    "\n",
    "                    if liveCount == 3:\n",
    "                        one.append((i,j))\n",
    "                else:\n",
    "                    liveCount = 0\n",
    "                    deadCount = 0\n",
    "                    for x,y in neighbors:\n",
    "                        if 0<=x+i<m and 0<=y+j<n:\n",
    "                            if board[x+i][y+j] == 0:\n",
    "                                deadCount += 1\n",
    "                            else:\n",
    "                                liveCount += 1\n",
    "                    if liveCount < 2 or liveCount>3:\n",
    "                        zero.append((i,j))\n",
    "\n",
    "        for i,j in zero:\n",
    "            board[i][j] = 0\n",
    "\n",
    "        for i,j in one:\n",
    "            board[i][j] = 1"
   ]
  },
  {
   "cell_type": "markdown",
   "metadata": {},
   "source": [
    "### [299. Bulls and Cows](https://leetcode.com/problems/bulls-and-cows)\n",
    "\n",
    "1. create Counter to store the char counts\n",
    "2. first scan to check the bulls and decrement the counts\n",
    "3. second scan to check cows"
   ]
  },
  {
   "cell_type": "code",
   "execution_count": 13,
   "metadata": {},
   "outputs": [],
   "source": [
    "class Solution:\n",
    "    def getHint(self, secret: str, guess: str) -> str:\n",
    "        seen = {}\n",
    "        for i in range(len(secret)):\n",
    "            seen[secret[i]] = seen.get(secret[i],0) + 1\n",
    "\n",
    "        bull = 0\n",
    "        cow = 0\n",
    "        for i in range(len(guess)):\n",
    "            if guess[i] == secret[i]:\n",
    "                bull += 1\n",
    "                seen[secret[i]] -= 1\n",
    "\n",
    "        for i in range(len(guess)):\n",
    "\n",
    "            if guess[i]!=secret[i] and guess[i] in seen and seen[guess[i]] >0:\n",
    "                cow += 1\n",
    "                seen[guess[i]] -= 1\n",
    "\n",
    "        return \"{}A{}B\".format(bull,cow)"
   ]
  },
  {
   "cell_type": "markdown",
   "metadata": {},
   "source": [
    "### [564. Find the Closest Palindrome](https://leetcode.com/problems/find-the-closest-palindrome)\n",
    "\n",
    "1. to make the number palindrome, change the right half. (closest distance)\n",
    "2. five possibilities for 12345. 12321, 12421, 12221, 100001, 9999\n",
    "3. compare each with 12345 and find the cloest\n"
   ]
  },
  {
   "cell_type": "code",
   "execution_count": 14,
   "metadata": {},
   "outputs": [],
   "source": [
    "\n",
    "class Solution:\n",
    "    def nearestPalindromic(self, n: str) -> str:\n",
    "        size = len(n)\n",
    "        if size %2 == 0:\n",
    "            leftLen = size // 2 # 1234 -> 3\n",
    "        else:\n",
    "            leftLen = size //2 +1 # 123 -> 2\n",
    "\n",
    "        firstHalf = int(n[:leftLen])\n",
    "        candidates = []\n",
    "        for offset in range(-1,2):\n",
    "            # offset: -1, 0, 1\n",
    "            # candidates: 12321, 12421, 12521\n",
    "            candidates.append(self.getPali(firstHalf+offset,size%2==0))\n",
    "        # 100001\n",
    "        candidates.append(10**(size)+1)\n",
    "        # 9999\n",
    "        candidates.append(10**(size-1)-1)\n",
    "        print(candidates)\n",
    "        res = 0\n",
    "        origin = int(n)\n",
    "        minDiff = float(\"inf\")\n",
    "        for candi in candidates:\n",
    "            if candi == origin:\n",
    "                continue\n",
    "            if abs(origin - candi) < minDiff:\n",
    "                minDiff = abs(origin-candi)\n",
    "                res = candi\n",
    "            elif abs(origin -candi) == minDiff:\n",
    "                res = min(res, candi)\n",
    "\n",
    "        return str(res)\n",
    "\n",
    "\n",
    "\n",
    "    def getPali(self,leftHalf,isEven):\n",
    "        res = leftHalf\n",
    "        if not isEven:\n",
    "            leftHalf //= 10\n",
    "\n",
    "        \n",
    "        while leftHalf>0:\n",
    "            res = res*10 + leftHalf%10\n",
    "            leftHalf //= 10\n",
    "\n",
    "        return res\n"
   ]
  }
 ],
 "metadata": {
  "kernelspec": {
   "display_name": "Python 3",
   "language": "python",
   "name": "python3"
  },
  "language_info": {
   "codemirror_mode": {
    "name": "ipython",
    "version": 3
   },
   "file_extension": ".py",
   "mimetype": "text/x-python",
   "name": "python",
   "nbconvert_exporter": "python",
   "pygments_lexer": "ipython3",
   "version": "3.9.6"
  }
 },
 "nbformat": 4,
 "nbformat_minor": 2
}
